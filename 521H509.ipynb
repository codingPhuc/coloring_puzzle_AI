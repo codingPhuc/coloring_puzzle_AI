{
  "cells": [
    {
      "cell_type": "markdown",
      "metadata": {
        "id": "view-in-github",
        "colab_type": "text"
      },
      "source": [
        "<a href=\"https://colab.research.google.com/github/codingPhuc/coloring_puzzle_AI/blob/main/521H509.ipynb\" target=\"_parent\"><img src=\"https://colab.research.google.com/assets/colab-badge.svg\" alt=\"Open In Colab\"/></a>"
      ]
    },
    {
      "cell_type": "code",
      "execution_count": 21,
      "metadata": {
        "id": "Dl4GbmYYrukH"
      },
      "outputs": [],
      "source": [
        "import os\n",
        "import heapq\n",
        "import numpy as np\n",
        "from sympy.logic.boolalg import to_cnf\n",
        "import itertools\n",
        "from pysat.solvers import Glucose3"
      ]
    },
    {
      "cell_type": "code",
      "execution_count": null,
      "metadata": {
        "colab": {
          "base_uri": "https://localhost:8080/"
        },
        "id": "YXUTD-12iUOY",
        "outputId": "f4140cb9-a1d9-45de-cdc7-26a01d598f7d"
      },
      "outputs": [
        {
          "output_type": "stream",
          "name": "stdout",
          "text": [
            "Looking in indexes: https://pypi.org/simple, https://us-python.pkg.dev/colab-wheels/public/simple/\n",
            "Collecting python-sat==0.1.7.dev12\n",
            "  Downloading python_sat-0.1.7.dev12-cp39-cp39-manylinux2010_x86_64.whl (1.8 MB)\n",
            "\u001b[2K     \u001b[90m━━━━━━━━━━━━━━━━━━━━━━━━━━━━━━━━━━━━━━━━\u001b[0m \u001b[32m1.8/1.8 MB\u001b[0m \u001b[31m21.2 MB/s\u001b[0m eta \u001b[36m0:00:00\u001b[0m\n",
            "\u001b[?25hRequirement already satisfied: six in /usr/local/lib/python3.9/dist-packages (from python-sat==0.1.7.dev12) (1.16.0)\n",
            "Installing collected packages: python-sat\n",
            "Successfully installed python-sat-0.1.7.dev12\n"
          ]
        }
      ],
      "source": [
        " pip install python-sat==0.1.7.dev12 "
      ]
    },
    {
      "cell_type": "markdown",
      "source": [],
      "metadata": {
        "id": "45ZhRfCQxyfN"
      }
    },
    {
      "cell_type": "code",
      "source": [
        "def convert_to_cnf(formula):\n",
        "    # Convert formula to CNF\n",
        "    cnf_formula = to_cnf(formula,True ,force=True)\n",
        "    return cnf_formula\n",
        "def convert_to_clause(matrix):\n",
        "    # initialize an empty string to hold the final result\n",
        "    formula = []\n",
        "    \n",
        "    # loop over each row of the matrix\n",
        "    for row in matrix:\n",
        "        # initialize an empty list to hold the clauses for this row\n",
        "        clauses = []\n",
        "        \n",
        "        # loop over each element of the row\n",
        "        for i, element in enumerate(row):\n",
        "        \n",
        "            \n",
        "            # generate the corresponding literal for this element\n",
        "            literal = 'c_' + str(abs(element))\n",
        "            \n",
        "            \n",
        "            \n",
        "            # add a negation symbol if the element is negative\n",
        "            if element < 0:\n",
        "                literal = '~' + literal\n",
        "            # add the literal to the list of clauses for this row\n",
        "            clauses.append(literal)\n",
        "        \n",
        "        # join the clauses for this row with OR operators and wrap them in parentheses\n",
        "        row_string = '('+  ' & '.join(clauses) + ')'\n",
        "        # add the row string to the final result\n",
        "        formula.append(row_string)\n",
        "  \n",
        "    # now it will generate \n",
        "    formula = '|'.join(formula)\n",
        "    cnf_formula = convert_to_cnf(formula)\n",
        "    x = str(cnf_formula).split('&')\n",
        "    x = [i.replace('(', '').replace(')', '').replace('~', '-').replace('c_', '') for i in x]\n",
        "    x= [i.split('|') for i in x]\n",
        "    list_causes = []\n",
        "    for causes in x : \n",
        "      list_causes.append(list(map(int, causes)))\n",
        "    return list_causes\n",
        "def generate_number_combinations(numbers, num_minus):\n",
        "    \"\"\"\n",
        "    Generates all possible number combinations with the given number of minus signs.\n",
        "    \n",
        "    Args:\n",
        "    numbers (list): List of numbers to generate combinations from\n",
        "    num_minus (int): Number of minus signs to include in the combinations\n",
        "    \n",
        "    Returns:\n",
        "    list: List of all possible number combinations\n",
        "    \"\"\"\n",
        "    minus_indices = itertools.combinations(range(len(numbers)), num_minus)\n",
        "    result = []\n",
        "    for indices in minus_indices:\n",
        "        combination = []\n",
        "        for i, num in enumerate(numbers):\n",
        "            if i in indices:\n",
        "                combination.append(-num)\n",
        "            else:\n",
        "                combination.append(num)\n",
        "        result.append(combination)\n",
        "    return result\n",
        "\n",
        "\n",
        "matrix = [[-4, -5, 7, 8], [-4, 5, -7, 8], [-4, 5, 7, -8], [4, -5, -7, 8], [4, -5, 7, -8], [4, 5, -7, -8]]\n",
        "clauses = convert_to_clause(matrix)\n",
        "print(clauses)\n"
      ],
      "metadata": {
        "colab": {
          "base_uri": "https://localhost:8080/"
        },
        "id": "_yIpAKvDry8y",
        "outputId": "7ad9e09b-f0d2-4719-fce7-0eb3feb9ffcb"
      },
      "execution_count": 100,
      "outputs": [
        {
          "output_type": "stream",
          "name": "stdout",
          "text": [
            "[[4, 5, 7], [4, 5, 8], [4, 7, 8], [5, 7, 8], [-4, -5, -7], [-4, -5, -8], [-4, -7, -8], [-5, -7, -8]]\n"
          ]
        }
      ]
    },
    {
      "cell_type": "code",
      "execution_count": null,
      "metadata": {
        "colab": {
          "base_uri": "https://localhost:8080/"
        },
        "id": "eu8i3iP7FuFu",
        "outputId": "379f6843-3dd3-4f68-db5e-bdcc581ce71b"
      },
      "outputs": [
        {
          "output_type": "stream",
          "name": "stdout",
          "text": [
            "Looking in indexes: https://pypi.org/simple, https://us-python.pkg.dev/colab-wheels/public/simple/\n",
            "Requirement already satisfied: python-sat==0.1.7.dev12 in /usr/local/lib/python3.9/dist-packages (0.1.7.dev12)\n",
            "Requirement already satisfied: six in /usr/local/lib/python3.9/dist-packages (from python-sat==0.1.7.dev12) (1.16.0)\n"
          ]
        }
      ],
      "source": [
        "pip install python-sat==0.1.7.dev12"
      ]
    },
    {
      "cell_type": "code",
      "source": [
        "\n",
        "\n",
        "class Coloring_Puzzle :\n",
        "    def __init__(self):\n",
        "        self.M  = 0 \n",
        "        self.N  =0 \n",
        "        self.maze = []\n",
        "        self.dictionary = dict()\n",
        "    \n",
        "     \n",
        "    # def read_input(self, input_file):# reading the maze file \n",
        "      \n",
        "    #     with open(input_file, 'r') as f:\n",
        "    #         self.N, self.M = [int(it) for it in f.readline().split()]\n",
        "    #         maze = [line.strip() for line in f]\n",
        "    #         maze =  [it.split() for it in maze  ]\n",
        "    #     return maze \n",
        "    def add_clauses(self):#function to check all the adjacnet of a point in array \n",
        "      clauses = []\n",
        "      for i in range(0, self.M):\n",
        "        for j in range(0 , self.N ):\n",
        "          if(self.maze[i][j] !='.'):\n",
        "            ad_list , len_list = self.check_adjacent((i,j))\n",
        "            if(int(self.maze[i][j]) ==len_list ):\n",
        "               for cl  in ad_list : \n",
        "                 clauses.append([int(cl)])\n",
        "            elif(int(self.maze[i][j]) == 0): \n",
        "               \n",
        "               for cl  in ad_list : \n",
        "                 clauses.append([int(-cl)])\n",
        "            else: \n",
        "              num_com = generate_number_combinations(ad_list,len_list -int(self.maze[i][j]))\n",
        "              list_causes = convert_to_clause(num_com)\n",
        "              for l in list_causes : \n",
        "                 clauses.append(l)\n",
        "              \n",
        "            \n",
        "      return clauses \n",
        "\n",
        "\n",
        "\n",
        "    def load_from_file(self, filename):# function to read file input then generate a class  array, dictionary  \n",
        "      if os.path.exists(filename):\n",
        "        with open(filename) as f:\n",
        "          self.M, self.N= [int(it) for it in f.readline().split()]\n",
        "          self.maze = [line.strip() for line in f]\n",
        "          self.maze =  [it.split() for it in self.maze]\n",
        "          number =1\n",
        "          for i in range(0,self.M ):\n",
        "            for j in range (0,self.N):\n",
        "                self.dictionary[number] = (i,j) \n",
        "                number= number +1\n",
        "\n",
        "    def find_key_by_value(self, value):\n",
        "      for key, val in self.dictionary.items():\n",
        "          if val == value:\n",
        "              return key\n",
        "      return None  # If the value is not found, return None\n",
        "    def check_adjacent(self, Coordinate):\n",
        "       ad_list = []\n",
        "       i, j = Coordinate\n",
        "       if i-1 >-1: \n",
        "         ad_list.append(self.find_key_by_value((i-1,j)))\n",
        "       if i+1<  self.M: \n",
        "         ad_list.append(self.find_key_by_value((i+1,j)))\n",
        "       if j-1 >-1 : \n",
        "         ad_list.append(self.find_key_by_value((i,j-1)))\n",
        "       if j+1 <  self.N: \n",
        "         ad_list.append(self.find_key_by_value((i,j+1)))\n",
        "       if j+1 < self.N and i-1 >-1:\n",
        "         ad_list.append(self.find_key_by_value((i-1,j+1)))\n",
        "       if i+1 < self.M and j-1 >-1:\n",
        "         ad_list.append(self.find_key_by_value((i+1,j-1)))\n",
        "       if i+1 < self.M and j+1 <self.N:\n",
        "         ad_list.append(self.find_key_by_value((i+1,j+1)))\n",
        "       if i-1 > -1 and j-1 > -1:\n",
        "         ad_list.append(self.find_key_by_value((i-1,j-1)))\n",
        "              \n",
        "\n",
        "       ad_list.append(self.find_key_by_value((i,j)))\n",
        "       return ad_list ,len(ad_list)\n",
        "\n",
        "puzze = Coloring_Puzzle()\n",
        "puzze.load_from_file('input.txt')\n",
        "\n",
        "list_causes = puzze.add_clauses() \n",
        "s = Glucose3()\n",
        "for l  in list_causes: \n",
        "   s.add_clause(l)\n",
        "\n",
        "\n",
        "# Solve the SAT problem\n",
        "if s.solve():\n",
        "    print(\"SAT\")\n",
        "    model = s.get_model()\n",
        "    print(\"Model:\", model)\n",
        "else:\n",
        "    print(\"UNSAT\")\n",
        "s.delete()"
      ],
      "metadata": {
        "colab": {
          "base_uri": "https://localhost:8080/"
        },
        "id": "50wSDX4djhxN",
        "outputId": "b633a4ef-dca0-4717-ad86-6954ce41ca1b"
      },
      "execution_count": 101,
      "outputs": [
        {
          "output_type": "stream",
          "name": "stdout",
          "text": [
            "SAT\n",
            "Model: [-1, 2, 3, -4, -5, -6, -7, -8, 9, 10, -11, -12, -13, 14, -15, -16, -17, 18, 19, 20, -21, -22, 23, 24, 25, -26, -27, 28, 29, 30, -31, 32, 33, -34, 35, 36, -37, 38, -39, -40, -41, 42, -43, -44, -45, 46, 47, 48, 49, -50, 51, 52, -53, -54, 55, 56, -57, -58, 59, 60, 61, -62, -63, -64, 65, -66, -67, -68, -69, 70, 71, -72, -73, -74, 75, -76, -77, -78, -79, 80, 81, 82, -83, -84, 85, 86, -87, -88, 89, 90, -91, 92, 93, 94, 95, 96, 97, 98, 99, -100]\n"
          ]
        }
      ]
    },
    {
      "cell_type": "code",
      "execution_count": 64,
      "metadata": {
        "id": "eLKGywfbGGAk",
        "colab": {
          "base_uri": "https://localhost:8080/"
        },
        "outputId": "fff186dc-3995-44ee-d05e-4704955e6016"
      },
      "outputs": [
        {
          "output_type": "stream",
          "name": "stdout",
          "text": [
            "(~c_2 | ~c_3) & (~c_2 | ~c_5) & (~c_2 | ~c_6) & (~c_3 | ~c_5) & (~c_3 | ~c_6) & (~c_5 | ~c_6) & (c_2 | c_3 | c_5 | c_6)\n",
            "(c_4 | c_5 | c_7) & (c_4 | c_5 | c_8) & (c_4 | c_7 | c_8) & (c_5 | c_7 | c_8) & (~c_4 | ~c_5 | ~c_7) & (~c_4 | ~c_5 | ~c_8) & (~c_4 | ~c_7 | ~c_8) & (~c_5 | ~c_7 | ~c_8)\n",
            "[[-2, -3], [-2, -5], [-2, -6], [-3, -5], [-3, -6], [-5, -6], [2, 3, 5, 6], [4, 5, 7], [4, 5, 8], [4, 7, 8], [5, 7, 8], [-4, -5, -7], [-4, -5, -8], [-4, -7, -8], [-5, -7, -8]]\n",
            "SAT\n",
            "Model: [-1, -2, 3, -4, -5, -6, 7, 8]\n"
          ]
        }
      ],
      "source": [
        "from pysat.solvers import Glucose3\n",
        "\n",
        "# Create a Glucose 3 solver instance\n",
        "s = Glucose3()\n",
        "\n",
        "# Add variables to the solver\n",
        "\n",
        "\n",
        "# Example usage\n",
        "formula = '( c_2 &  ~c_3 & ~c_5 & ~c_6) | ( ~c_2 &  c_3 & ~c_5 & ~c_6)| ( ~c_2 &  ~c_3 & c_5 & ~c_6) | ( ~c_2 &  ~c_3 & ~c_5 & c_6)'\n",
        "\n",
        "cnf_formula = convert_to_cnf(formula)\n",
        "print(cnf_formula)\n",
        "x = str(cnf_formula).split('&')\n",
        "x = [i.replace('(', '').replace(')', '').replace('~', '-').replace('c_', '') for i in x]\n",
        "x= [i.split('|') for i in x]\n",
        "\n",
        "list_causes = []\n",
        "for causes in x : \n",
        "   list_causes.append(list(map(int, causes)))\n",
        "\n",
        "formula = '( ~c_4 &  ~c_5 & c_7 & c_8) | ( ~c_4 &  c_5 & ~c_7 & c_8)| ( ~c_4 &  c_5 & c_7 & ~c_8) | ( c_4 &  ~c_5 & ~c_7 & c_8)| ( c_4 &  ~c_5 & c_7 & ~c_8) | ( c_4 &  c_5 & ~c_7 & ~c_8)  '\n",
        "cnf_formula = convert_to_cnf(formula)\n",
        "print(cnf_formula)\n",
        "x = str(cnf_formula).split('&')\n",
        "x = [i.replace('(', '').replace(')', '').replace('~', '-').replace('c_', '') for i in x]\n",
        "x= [i.split('|') for i in x]\n",
        "\n",
        "\n",
        "\n",
        "for causes in x : \n",
        "   list_causes.append(list(map(int, causes)))\n",
        "\n",
        "print(list_causes)\n",
        "for l  in list_causes: \n",
        "   s.add_clause(l)\n",
        "\n",
        "s.add_clause([-1])\n",
        "s.add_clause([-2])\n",
        "s.add_clause([-4])\n",
        "s.add_clause([-5])\n",
        "\n",
        "\n",
        "# Solve the SAT problem\n",
        "if s.solve():\n",
        "    print(\"SAT\")\n",
        "    model = s.get_model()\n",
        "    print(\"Model:\", model)\n",
        "else:\n",
        "    print(\"UNSAT\")\n",
        "s.delete()\n"
      ]
    },
    {
      "cell_type": "code",
      "source": [
        "def convert_to_cnf(formula):\n",
        "    # Convert formula to CNF\n",
        "    cnf_formula = to_cnf(formula,True)\n",
        "    return cnf_formula\n",
        "# Example usage\n",
        "formula = '( 2 &  3 & ~ 5 & ~ 6) | ( ~2 &  3 & ~5 & ~6) '\n",
        "\n",
        "cnf_formula = convert_to_cnf(formula)\n",
        "print(cnf_formula)\n",
        "x = str(cnf_formula).split('&')\n",
        "x = [i.replace('(', '').replace(')', '').replace('~', '-').replace('c_', '') for i in x]\n",
        "x= [i.split('|') for i in x]\n",
        "s = Glucose3()\n",
        "list_causes = []\n",
        "for causes in x : \n",
        "   list_causes.append(list(map(int, causes)))"
      ],
      "metadata": {
        "id": "CZBMuDAjPUY9",
        "colab": {
          "base_uri": "https://localhost:8080/"
        },
        "outputId": "b9a24353-7380-4014-8507-d18d6362f5f5"
      },
      "execution_count": null,
      "outputs": [
        {
          "output_type": "stream",
          "name": "stdout",
          "text": [
            "0\n"
          ]
        }
      ]
    }
  ],
  "metadata": {
    "colab": {
      "provenance": [],
      "authorship_tag": "ABX9TyOOp84cf6sb73Ssaw0Z1772",
      "include_colab_link": true
    },
    "kernelspec": {
      "display_name": "Python 3",
      "name": "python3"
    },
    "language_info": {
      "name": "python"
    }
  },
  "nbformat": 4,
  "nbformat_minor": 0
}